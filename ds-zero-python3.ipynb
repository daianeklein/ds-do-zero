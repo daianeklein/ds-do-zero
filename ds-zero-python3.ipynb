{
 "cells": [
  {
   "cell_type": "markdown",
   "metadata": {},
   "source": [
    "## <font color=RoyalBlue size=6>LIVRO: DATA SCIENCE DO ZERO</font>\n",
    "\n",
    "***"
   ]
  },
  {
   "cell_type": "markdown",
   "metadata": {},
   "source": [
    "#### <font color=CornflowerBlue size=5>Autor: Joel Grus | Editora: Alta Books</font>\n",
    "\n",
    "***"
   ]
  },
  {
   "cell_type": "markdown",
   "metadata": {},
   "source": [
    "#### <font color=CornflowerBlue size=4>Repositório oficial do autor: https://github.com/joelgrus/data-science-from-scratch </font>\n",
    "\n",
    "***\n",
    "\n"
   ]
  },
  {
   "cell_type": "code",
   "execution_count": 1,
   "metadata": {},
   "outputs": [],
   "source": [
    "import pandas as pd\n",
    "import numpy as np\n",
    "import matplotlib.pyplot as plt"
   ]
  },
  {
   "cell_type": "markdown",
   "metadata": {},
   "source": [
    "#### <font color=SlateBlue size=5>CAPÍTULO 01 - INTRODUÇÃO </font>\n",
    "\n",
    "***\n",
    "\n"
   ]
  },
  {
   "cell_type": "code",
   "execution_count": 2,
   "metadata": {},
   "outputs": [
    {
     "data": {
      "text/plain": [
       "[{'id': 0, 'name': 'Hero'},\n",
       " {'id': 1, 'name': 'Dunn'},\n",
       " {'id': 2, 'name': 'Sue'},\n",
       " {'id': 3, 'name': 'Chi'},\n",
       " {'id': 4, 'name': 'Thor'},\n",
       " {'id': 5, 'name': 'Clive'},\n",
       " {'id': 6, 'name': 'Hicks'},\n",
       " {'id': 7, 'name': 'Devin'},\n",
       " {'id': 8, 'name': 'Kate'},\n",
       " {'id': 9, 'name': 'Klein'}]"
      ]
     },
     "execution_count": 2,
     "metadata": {},
     "output_type": "execute_result"
    }
   ],
   "source": [
    "users = [{\"id\":0,\"name\":\"Hero\"},\n",
    "{\"id\":1,\"name\":\"Dunn\"},\n",
    "{\"id\":2,\"name\":\"Sue\"},\n",
    "{\"id\":3,\"name\":\"Chi\"},\n",
    "{\"id\":4,\"name\":\"Thor\"},\n",
    "{\"id\":5,\"name\":\"Clive\"},\n",
    "{\"id\":6,\"name\":\"Hicks\"},\n",
    "{\"id\":7,\"name\":\"Devin\"},\n",
    "{\"id\":8,\"name\":\"Kate\"},\n",
    "{\"id\":9,\"name\":\"Klein\"}   \n",
    "]\n",
    "\n",
    "friendships = [(0,1), (0,2), (1,2), (1,3), (2,3), (3,4),\n",
    "               (4,5), (5,6), (5,7), (6,8), (7,8), (8,9)]\n",
    "\n",
    "users"
   ]
  },
  {
   "cell_type": "code",
   "execution_count": 3,
   "metadata": {},
   "outputs": [
    {
     "data": {
      "text/plain": [
       "{'id': 9, 'name': 'Klein', 'friends': []}"
      ]
     },
     "execution_count": 3,
     "metadata": {},
     "output_type": "execute_result"
    }
   ],
   "source": [
    "for user in users:\n",
    "    user[\"friends\"] = []\n",
    "    \n",
    "user  "
   ]
  },
  {
   "cell_type": "code",
   "execution_count": 4,
   "metadata": {},
   "outputs": [
    {
     "data": {
      "text/plain": [
       "[{'id': 0, 'name': 'Hero', 'friends': [1, 2]},\n",
       " {'id': 1, 'name': 'Dunn', 'friends': [0, 2, 3]},\n",
       " {'id': 2, 'name': 'Sue', 'friends': [0, 1, 3]},\n",
       " {'id': 3, 'name': 'Chi', 'friends': [1, 2, 4]},\n",
       " {'id': 4, 'name': 'Thor', 'friends': [3, 5]},\n",
       " {'id': 5, 'name': 'Clive', 'friends': [4, 6, 7]},\n",
       " {'id': 6, 'name': 'Hicks', 'friends': [5, 8]},\n",
       " {'id': 7, 'name': 'Devin', 'friends': [5, 8]},\n",
       " {'id': 8, 'name': 'Kate', 'friends': [6, 7, 9]},\n",
       " {'id': 9, 'name': 'Klein', 'friends': [8]}]"
      ]
     },
     "execution_count": 4,
     "metadata": {},
     "output_type": "execute_result"
    }
   ],
   "source": [
    "for i,j in friendships:\n",
    "    users[i][\"friends\"].append(j)    #adiciona i como um amigo de j \n",
    "    users[j][\"friends\"].append(i)    #adiciona j como um amigo de i\n",
    "    \n",
    "users    "
   ]
  },
  {
   "cell_type": "code",
   "execution_count": 5,
   "metadata": {},
   "outputs": [
    {
     "name": "stdout",
     "output_type": "stream",
     "text": [
      " total_connections: 24, num_users: 10, avg_connections: 2.4\n"
     ]
    }
   ],
   "source": [
    "def number_of_friends(users):\n",
    "    return len(users['friends'])\n",
    "\n",
    "total_connections_list = []\n",
    "\n",
    "for u in users:\n",
    "    total_connections_list.append(sum([number_of_friends(u)]))\n",
    "    \n",
    "total_connections = sum(total_connections_list)\n",
    "total_connections\n",
    "\n",
    "\n",
    "num_users = len(users)\n",
    "avg_connections = total_connections / num_users\n",
    "print(f' total_connections: {total_connections}, num_users: {num_users}, avg_connections: {avg_connections}')"
   ]
  },
  {
   "cell_type": "code",
   "execution_count": null,
   "metadata": {},
   "outputs": [],
   "source": []
  },
  {
   "cell_type": "code",
   "execution_count": 6,
   "metadata": {},
   "outputs": [
    {
     "data": {
      "text/plain": [
       "[(1, 3),\n",
       " (2, 3),\n",
       " (3, 3),\n",
       " (5, 3),\n",
       " (8, 3),\n",
       " (0, 2),\n",
       " (4, 2),\n",
       " (6, 2),\n",
       " (7, 2),\n",
       " (9, 1)]"
      ]
     },
     "execution_count": 6,
     "metadata": {},
     "output_type": "execute_result"
    }
   ],
   "source": [
    "num_friends_by_id = [(user['id'], number_of_friends(user)) for user in users]\n",
    "sorted(num_friends_by_id, key=lambda userid_numfriends: userid_numfriends[1], reverse=True)"
   ]
  },
  {
   "cell_type": "markdown",
   "metadata": {},
   "source": [
    "## Cientistas de dados que talvez você conheça"
   ]
  },
  {
   "cell_type": "code",
   "execution_count": 7,
   "metadata": {},
   "outputs": [],
   "source": [
    "## Amigos de amigos\n",
    "\n",
    "def friends_of_friend_ids_bad(user):\n",
    "    return [foaf['id']\n",
    "            for friend in user['friends']\n",
    "            for foaf in friend['friends']]"
   ]
  },
  {
   "cell_type": "code",
   "execution_count": 8,
   "metadata": {},
   "outputs": [],
   "source": [
    "documents = {'Vehicle' : 10,\n",
    "              'fances' : 5,\n",
    "              'driveway' : 3,\n",
    "              'burglary' : 4    \n",
    "}\n",
    "\n",
    "\n",
    "word_counts = {}\n",
    "for word in documents:\n",
    "    if word in word_counts:\n",
    "        word_counts[word] += 1\n",
    "    else:\n",
    "        word_counts[word] = 1"
   ]
  },
  {
   "cell_type": "markdown",
   "metadata": {},
   "source": [
    "## Salários e Experiência"
   ]
  },
  {
   "cell_type": "code",
   "execution_count": 9,
   "metadata": {},
   "outputs": [
    {
     "data": {
      "text/plain": [
       "[(83000, 8.7),\n",
       " (88000, 8.1),\n",
       " (48000, 0.7),\n",
       " (76000, 6),\n",
       " (69000, 6.5),\n",
       " (76000, 7.5),\n",
       " (60000, 2.5),\n",
       " (83000, 10),\n",
       " (48000, 1.9),\n",
       " (63000, 4.2)]"
      ]
     },
     "execution_count": 9,
     "metadata": {},
     "output_type": "execute_result"
    }
   ],
   "source": [
    "salaries_and_teanures = [ (83000, 8.7), (88000, 8.1),\n",
    "                        (48000, 0.7), (76000, 6),\n",
    "                        (69000, 6.5), (76000, 7.5),\n",
    "                        (60000, 2.5), (83000, 10),\n",
    "                        (48000, 1.9), (63000, 4.2)]\n",
    "\n",
    "salaries_and_teanures"
   ]
  },
  {
   "cell_type": "code",
   "execution_count": 10,
   "metadata": {},
   "outputs": [
    {
     "data": {
      "image/png": "[encoded data removed]",
      "text/plain": [
       "<Figure size 432x288 with 1 Axes>"
      ]
     },
     "metadata": {
      "needs_background": "light"
     },
     "output_type": "display_data"
    }
   ],
   "source": [
    "import matplotlib.pyplot as plt\n",
    "\n",
    "for t, s in salaries_and_teanures:\n",
    "    plt.scatter(t, s)\n",
    "    plt.xlabel('Salaries')\n",
    "    plt.ylabel('Years Experience')"
   ]
  },
  {
   "cell_type": "code",
   "execution_count": 11,
   "metadata": {},
   "outputs": [
    {
     "data": {
      "text/plain": [
       "{8.7: 83000.0,\n",
       " 8.1: 88000.0,\n",
       " 0.7: 48000.0,\n",
       " 6: 76000.0,\n",
       " 6.5: 69000.0,\n",
       " 7.5: 76000.0,\n",
       " 2.5: 60000.0,\n",
       " 10: 83000.0,\n",
       " 1.9: 48000.0,\n",
       " 4.2: 63000.0}"
      ]
     },
     "execution_count": 11,
     "metadata": {},
     "output_type": "execute_result"
    }
   ],
   "source": [
    "from collections import defaultdict\n",
    "\n",
    "salary_by_tenure = defaultdict(list)\n",
    "\n",
    "for salary, tenure in salaries_and_teanures:\n",
    "    salary_by_tenure[tenure].append(salary)\n",
    "    \n",
    "average_salary_by_tenure = {tenure: sum(salaries) / len(salaries)\n",
    "                            for tenure, salaries in salary_by_tenure.items()}\n",
    "\n",
    "average_salary_by_tenure"
   ]
  },
  {
   "cell_type": "code",
   "execution_count": 12,
   "metadata": {},
   "outputs": [],
   "source": [
    "def tenure_bucket(tenure):\n",
    "    if tenure < 2:\n",
    "        return 'Less than two'\n",
    "    elif tenure < 5:\n",
    "        return 'Between two and five'\n",
    "    else:\n",
    "        return 'More than five'"
   ]
  },
  {
   "cell_type": "code",
   "execution_count": 13,
   "metadata": {},
   "outputs": [],
   "source": [
    "from collections import defaultdict\n",
    "\n",
    "salary_by_tenure_bucket = defaultdict(list)\n",
    "\n",
    "for salary, tenure in salaries_and_teanures:\n",
    "    bucket = tenure_bucket(tenure)\n",
    "    salary_by_tenure_bucket[bucket].append(salary)\n",
    "    \n",
    "average_salary_by_bucket = {\n",
    "  tenure_bucket : sum(salaries) / len(salaries)\n",
    "  for tenure_bucket, salaries in salary_by_tenure_bucket.items()}"
   ]
  },
  {
   "cell_type": "markdown",
   "metadata": {},
   "source": [
    "### DefaultDict"
   ]
  },
  {
   "cell_type": "code",
   "execution_count": 14,
   "metadata": {},
   "outputs": [
    {
     "data": {
      "text/plain": [
       "[]"
      ]
     },
     "execution_count": 14,
     "metadata": {},
     "output_type": "execute_result"
    }
   ],
   "source": [
    "from collections import defaultdict\n",
    "\n",
    "dict2 = defaultdict(list)\n",
    "\n",
    "dict2[2]"
   ]
  },
  {
   "cell_type": "markdown",
   "metadata": {},
   "source": [
    "## Contas Pagas"
   ]
  },
  {
   "cell_type": "code",
   "execution_count": 15,
   "metadata": {},
   "outputs": [
    {
     "data": {
      "text/html": [
       "<div>\n",
       "<style scoped>\n",
       "    .dataframe tbody tr th:only-of-type {\n",
       "        vertical-align: middle;\n",
       "    }\n",
       "\n",
       "    .dataframe tbody tr th {\n",
       "        vertical-align: top;\n",
       "    }\n",
       "\n",
       "    .dataframe thead th {\n",
       "        text-align: right;\n",
       "    }\n",
       "</style>\n",
       "<table border=\"1\" class=\"dataframe\">\n",
       "  <thead>\n",
       "    <tr style=\"text-align: right;\">\n",
       "      <th></th>\n",
       "      <th>years_experience</th>\n",
       "      <th>status</th>\n",
       "    </tr>\n",
       "  </thead>\n",
       "  <tbody>\n",
       "    <tr>\n",
       "      <th>0</th>\n",
       "      <td>0.7</td>\n",
       "      <td>paid</td>\n",
       "    </tr>\n",
       "    <tr>\n",
       "      <th>1</th>\n",
       "      <td>1.9</td>\n",
       "      <td>unpaid</td>\n",
       "    </tr>\n",
       "    <tr>\n",
       "      <th>2</th>\n",
       "      <td>2.5</td>\n",
       "      <td>paid</td>\n",
       "    </tr>\n",
       "    <tr>\n",
       "      <th>3</th>\n",
       "      <td>4.2</td>\n",
       "      <td>unpaid</td>\n",
       "    </tr>\n",
       "    <tr>\n",
       "      <th>4</th>\n",
       "      <td>6.0</td>\n",
       "      <td>unpaid</td>\n",
       "    </tr>\n",
       "    <tr>\n",
       "      <th>5</th>\n",
       "      <td>6.5</td>\n",
       "      <td>unpaid</td>\n",
       "    </tr>\n",
       "    <tr>\n",
       "      <th>6</th>\n",
       "      <td>7.5</td>\n",
       "      <td>unpaid</td>\n",
       "    </tr>\n",
       "    <tr>\n",
       "      <th>7</th>\n",
       "      <td>8.1</td>\n",
       "      <td>unpaid</td>\n",
       "    </tr>\n",
       "    <tr>\n",
       "      <th>8</th>\n",
       "      <td>8.7</td>\n",
       "      <td>paid</td>\n",
       "    </tr>\n",
       "    <tr>\n",
       "      <th>9</th>\n",
       "      <td>10.0</td>\n",
       "      <td>paid</td>\n",
       "    </tr>\n",
       "  </tbody>\n",
       "</table>\n",
       "</div>"
      ],
      "text/plain": [
       "   years_experience  status\n",
       "0               0.7    paid\n",
       "1               1.9  unpaid\n",
       "2               2.5    paid\n",
       "3               4.2  unpaid\n",
       "4               6.0  unpaid\n",
       "5               6.5  unpaid\n",
       "6               7.5  unpaid\n",
       "7               8.1  unpaid\n",
       "8               8.7    paid\n",
       "9              10.0    paid"
      ]
     },
     "execution_count": 15,
     "metadata": {},
     "output_type": "execute_result"
    }
   ],
   "source": [
    "df_contas = { 'years_experience' : [0.7, 1.9, 2.5, 4.2, 6, 6.5, 7.5, 8.1, 8.7, 10],\n",
    "      'status' : ['paid', 'unpaid', 'paid', 'unpaid', 'unpaid', 'unpaid', 'unpaid', 'unpaid', 'paid', 'paid']}\n",
    "\n",
    "df_contas = pd.DataFrame(df_contas)\n",
    "df_contas"
   ]
  },
  {
   "cell_type": "code",
   "execution_count": 16,
   "metadata": {},
   "outputs": [],
   "source": [
    "def predict_paid_or_unpaid(years_experience):\n",
    "    if years_experience < 3.0:\n",
    "        return 'paid'\n",
    "    elif years_experience < 8.5:\n",
    "        return 'unpaid'\n",
    "    else:\n",
    "        return 'paid'"
   ]
  },
  {
   "cell_type": "markdown",
   "metadata": {},
   "source": [
    "## Tópicos de interesse"
   ]
  },
  {
   "cell_type": "code",
   "execution_count": 17,
   "metadata": {},
   "outputs": [],
   "source": [
    "interests = [\n",
    "    (0, \"Hadoop\"), (0, \"Big Data\"), (0, \"HBase\"), (0, \"Java\"),\n",
    "    (0, \"Spark\"), (0, \"Storm\"), (0, \"Cassandra\"),\n",
    "    (1, \"NoSQL\"), (1, \"MongoDB\"), (1, \"Cassandra\"), (1, \"HBase\"),\n",
    "    (1, \"Postgres\"), (2, \"Python\"), (2, \"scikit-learn\"), (2, \"scipy\"),\n",
    "    (2, \"numpy\"), (2, \"statsmodels\"), (2, \"pandas\"), (3, \"R\"), (3, \"Python\"),\n",
    "    (3, \"statistics\"), (3, \"regression\"), (3, \"probability\"),\n",
    "    (4, \"machine learning\"), (4, \"regression\"), (4, \"decision trees\"),\n",
    "    (4, \"libsvm\"), (5, \"Python\"), (5, \"R\"), (5, \"Java\"), (5, \"C++\"),\n",
    "    (5, \"Haskell\"), (5, \"programming languages\"), (6, \"statistics\"),\n",
    "    (6, \"probability\"), (6, \"mathematics\"), (6, \"theory\"),\n",
    "    (7, \"machine learning\"), (7, \"scikit-learn\"), (7, \"Mahout\"),\n",
    "    (7, \"neural networks\"), (8, \"neural networks\"), (8, \"deep learning\"),\n",
    "    (8, \"Big Data\"), (8, \"artificial intelligence\"), (9, \"Hadoop\"),\n",
    "    (9, \"Java\"), (9, \"MapReduce\"), (9, \"Big Data\")\n",
    "]"
   ]
  },
  {
   "cell_type": "code",
   "execution_count": 18,
   "metadata": {
    "scrolled": false
   },
   "outputs": [
    {
     "name": "stdout",
     "output_type": "stream",
     "text": [
      "big 3\n",
      "data 3\n",
      "java 3\n",
      "python 3\n",
      "learning 3\n",
      "hadoop 2\n",
      "hbase 2\n",
      "cassandra 2\n",
      "scikit-learn 2\n",
      "r 2\n",
      "statistics 2\n",
      "regression 2\n",
      "probability 2\n",
      "machine 2\n",
      "neural 2\n",
      "networks 2\n"
     ]
    }
   ],
   "source": [
    "from collections import Counter\n",
    "\n",
    "words_and_counts = Counter(word \n",
    "                           for user, interest in interests \n",
    "                           for word in interest.lower().split())\n",
    "\n",
    "for word, count in words_and_counts.most_common():\n",
    "    if count > 1:\n",
    "        print(word, count)"
   ]
  },
  {
   "cell_type": "markdown",
   "metadata": {},
   "source": [
    "#### <font color=SlateBlue size=5>CAPÍTULO 02 - CURSO RELÂMPAGO DE PYTHON </font>\n",
    "\n",
    "***\n",
    "\n"
   ]
  },
  {
   "cell_type": "markdown",
   "metadata": {},
   "source": [
    "As pessoas ainda são loucas pelo Python mesmo depois de vinte e cinco anos, o que é difícil de acreditar\n",
    "                                                              - Michael Palin"
   ]
  },
  {
   "cell_type": "markdown",
   "metadata": {},
   "source": [
    "#### <font color=SlateBlue size=5>CAPÍTULO 03 - VISUALIZANDO DADOS </font>\n",
    "\n",
    "***\n",
    "\n"
   ]
  },
  {
   "cell_type": "markdown",
   "metadata": {},
   "source": [
    "Acredito que a visualização seja um dos meios mais poderosos de atingir metas pessoais. —Harvey Mackay\n",
    "\n",
    "         Grus, Joel. Data Science do Zero (p. 58). Alta Books. Edição do Kindle.\n",
    "               \n",
    "***\n",
    "\n"
   ]
  },
  {
   "cell_type": "markdown",
   "metadata": {},
   "source": [
    "#### <font color=CornflowerBlue size=4>MATPLOTLIB </font>\n",
    "\n",
    "***\n",
    "\n"
   ]
  },
  {
   "cell_type": "code",
   "execution_count": 19,
   "metadata": {},
   "outputs": [],
   "source": [
    "from matplotlib import pyplot as plt"
   ]
  },
  {
   "cell_type": "code",
   "execution_count": 20,
   "metadata": {},
   "outputs": [],
   "source": [
    "years = [1950, 1960, 1970, 1980, 1990, 2000, 2010]\n",
    "gdp = [300.2, 543.3, 1075.9, 2862.5, 5979.6, 10289.7, 14958.3]"
   ]
  },
  {
   "cell_type": "code",
   "execution_count": 21,
   "metadata": {},
   "outputs": [
    {
     "data": {
      "text/plain": [
       "Text(0.5, 0, 'Bilhões de $')"
      ]
     },
     "execution_count": 21,
     "metadata": {},
     "output_type": "execute_result"
    },
    {
     "data": {
      "image/png": "[encoded data removed]",
      "text/plain": [
       "<Figure size 432x288 with 1 Axes>"
      ]
     },
     "metadata": {
      "needs_background": "light"
     },
     "output_type": "display_data"
    }
   ],
   "source": [
    "plt.plot(years, gdp, color='green', marker='o', linestyle='solid')\n",
    "plt.title('GDP Nominal')\n",
    "plt.xlabel('Bilhões de $')"
   ]
  },
  {
   "cell_type": "markdown",
   "metadata": {},
   "source": [
    "#### <font color=CornflowerBlue size=4>Gráfico de Barra </font>\n",
    "\n",
    "***\n",
    "\n"
   ]
  },
  {
   "cell_type": "code",
   "execution_count": 22,
   "metadata": {},
   "outputs": [],
   "source": [
    "movies = [\"Annie Hall\", \"Ben-Hur\", \"Casablanca\", \"Gandhi\", \"West Side Story\"]\n",
    "num_oscars = [5, 11, 3, 8, 10]"
   ]
  },
  {
   "cell_type": "code",
   "execution_count": 23,
   "metadata": {},
   "outputs": [
    {
     "data": {
      "text/plain": [
       "Text(0, 0.5, 'Premiações')"
      ]
     },
     "execution_count": 23,
     "metadata": {},
     "output_type": "execute_result"
    },
    {
     "data": {
      "image/png": "[encoded data removed]",
      "text/plain": [
       "<Figure size 432x288 with 1 Axes>"
      ]
     },
     "metadata": {
      "needs_background": "light"
     },
     "output_type": "display_data"
    }
   ],
   "source": [
    "plt.bar(movies, num_oscars)\n",
    "plt.title('Meus Filmes Favoritos')\n",
    "plt.ylabel('Premiações')"
   ]
  },
  {
   "cell_type": "markdown",
   "metadata": {},
   "source": [
    "#### <font color=CornflowerBlue size=4>Histograma </font>\n",
    "\n",
    "***\n",
    "\n"
   ]
  },
  {
   "cell_type": "code",
   "execution_count": 24,
   "metadata": {},
   "outputs": [
    {
     "data": {
      "image/png": "[encoded data removed]",
      "text/plain": [
       "<Figure size 432x288 with 1 Axes>"
      ]
     },
     "metadata": {
      "needs_background": "light"
     },
     "output_type": "display_data"
    }
   ],
   "source": [
    "grades = [83,95,91,87,70,0,85,82,100,67,73,77,0]\n",
    "decile = lambda grade: grade // 10 * 10\n",
    "histogram = Counter(decile(grade) for grade in grades)\n",
    "\n",
    "plt.bar([x - 4 for x in histogram.keys()], # shift each bar to the left by 4\n",
    "        histogram.values(),                # give each bar its correct height\n",
    "        8)                                 # give each bar a width of 8\n",
    "plt.axis([-5, 105, 0, 5])                  # x-axis from -5 to 105,\n",
    "                                               # y-axis from 0 to 5\n",
    "plt.xticks([10 * i for i in range(11)])    # x-axis labels at 0, 10, ..., 100\n",
    "plt.xlabel(\"Decile\")\n",
    "plt.ylabel(\"# of Students\")\n",
    "plt.title(\"Distribution of Exam 1 Grades\")\n",
    "plt.show()\n"
   ]
  },
  {
   "cell_type": "markdown",
   "metadata": {},
   "source": [
    "#### <font color=CornflowerBlue size=5>Histograma II (Não faz parte do livro)</font>\n",
    "\n",
    "***\n"
   ]
  },
  {
   "cell_type": "markdown",
   "metadata": {},
   "source": [
    "Documentação:\n",
    "\n",
    "matplotlib.pyplot.hist(x, bins=None, range=None, density=False, weights=None, cumulative=False, bottom=None, histtype='bar', align='mid', orientation='vertical', rwidth=None, log=False, color=None, label=None, stacked=False, *, data=None, **kwargs)[source]¶"
   ]
  },
  {
   "cell_type": "code",
   "execution_count": 25,
   "metadata": {},
   "outputs": [
    {
     "data": {
      "text/plain": [
       "(array([2., 0., 0., 0., 0., 0., 1., 3., 4., 3.]),\n",
       " array([  0.,  10.,  20.,  30.,  40.,  50.,  60.,  70.,  80.,  90., 100.]),\n",
       " <a list of 10 Patch objects>)"
      ]
     },
     "execution_count": 25,
     "metadata": {},
     "output_type": "execute_result"
    },
    {
     "data": {
      "image/png": "[encoded data removed]",
      "text/plain": [
       "<Figure size 432x288 with 1 Axes>"
      ]
     },
     "metadata": {
      "needs_background": "light"
     },
     "output_type": "display_data"
    }
   ],
   "source": [
    "##Histograma construido a partir da lista acima\n",
    "\n",
    "plt.hist(x = grades)"
   ]
  },
  {
   "cell_type": "code",
   "execution_count": 26,
   "metadata": {},
   "outputs": [
    {
     "data": {
      "image/png": "[encoded data removed]",
      "text/plain": [
       "<Figure size 432x288 with 1 Axes>"
      ]
     },
     "metadata": {
      "needs_background": "light"
     },
     "output_type": "display_data"
    }
   ],
   "source": [
    "##Histograma construido a partir da lista acima\n",
    "## Bins == Basicamente, trata da quantidade de colunas na plotagem. Quanto maior o número, menos agrupado o histograma ficará\n",
    "\n",
    "ax = plt.hist(x = grades, bins = 20)\n",
    "ax = ax "
   ]
  },
  {
   "cell_type": "markdown",
   "metadata": {},
   "source": [
    "#### <font color=CornflowerBlue size=5>Gráfico de Barras (eixo x não iniciando 0)</font>\n",
    "\n",
    "***\n"
   ]
  },
  {
   "cell_type": "code",
   "execution_count": 27,
   "metadata": {},
   "outputs": [
    {
     "data": {
      "text/plain": [
       "Text(0, 0.5, '# de vezes que ouvimos alguem dizer \"Data Science\"')"
      ]
     },
     "execution_count": 27,
     "metadata": {},
     "output_type": "execute_result"
    },
    {
     "data": {
      "image/png": "[encoded data removed]",
      "text/plain": [
       "<Figure size 432x288 with 1 Axes>"
      ]
     },
     "metadata": {
      "needs_background": "light"
     },
     "output_type": "display_data"
    }
   ],
   "source": [
    "mentions = [500, 505]\n",
    "years = [2013, 2014]\n",
    "\n",
    "plt.bar([2012.6, 2013.6], mentions, 0.8)\n",
    "plt.xticks(years)\n",
    "plt.ylabel('# de vezes que ouvimos alguem dizer \"Data Science\"')"
   ]
  },
  {
   "cell_type": "code",
   "execution_count": 28,
   "metadata": {},
   "outputs": [
    {
     "data": {
      "image/png": "[encoded data removed]",
      "text/plain": [
       "<Figure size 432x288 with 1 Axes>"
      ]
     },
     "metadata": {
      "needs_background": "light"
     },
     "output_type": "display_data"
    }
   ],
   "source": [
    "## Enganando o eixo X (Y mostra apenas a partir de 499)\n",
    "\n",
    "plt.bar([2012.6, 2013.6], mentions, 0.8)\n",
    "plt.xticks(years)\n",
    "plt.axis([2011.30, 2015.3, 499, 506]) ##os valores foram alterados, pois os valores iguais aos do livro,\n",
    "                                    ## deixava a barra \"grudada\" no eixo Y\n",
    "plt.title('Olha o aumento!')\n",
    "plt.show()"
   ]
  },
  {
   "cell_type": "markdown",
   "metadata": {},
   "source": [
    "#### O mesmo gráfico, porém sem um eixo \"enganador\""
   ]
  },
  {
   "cell_type": "code",
   "execution_count": 29,
   "metadata": {},
   "outputs": [
    {
     "data": {
      "image/png": "[encoded data removed]",
      "text/plain": [
       "<Figure size 432x288 with 1 Axes>"
      ]
     },
     "metadata": {
      "needs_background": "light"
     },
     "output_type": "display_data"
    }
   ],
   "source": [
    "\n",
    "plt.bar([2012.6, 2013.6], mentions, 0.8)\n",
    "plt.xticks(years)\n",
    "plt.axis([2011.30, 2015.3, 0, 550]) ## 0 == eixo Y inicia no 0 // 550 == eixo Y vai ate 550\n",
    "plt.title('Agora está menos enganador')\n",
    "plt.show()"
   ]
  },
  {
   "cell_type": "markdown",
   "metadata": {},
   "source": [
    "#### <font color=CornflowerBlue size=5>Gráfico de Linhas </font>\n",
    "\n",
    "***\n"
   ]
  },
  {
   "cell_type": "code",
   "execution_count": 30,
   "metadata": {},
   "outputs": [
    {
     "data": {
      "text/plain": [
       "Text(0.5, 1.0, 'Compromisso entre Polarização e Variância')"
      ]
     },
     "execution_count": 30,
     "metadata": {},
     "output_type": "execute_result"
    },
    {
     "data": {
      "image/png": "[encoded data removed]",
      "text/plain": [
       "<Figure size 432x288 with 1 Axes>"
      ]
     },
     "metadata": {
      "needs_background": "light"
     },
     "output_type": "display_data"
    }
   ],
   "source": [
    "## Plotagem do grafico de linhas de acordo com o livro\n",
    "\n",
    "variance = [1,2,4,8,16,32,64,128,256]\n",
    "bias_squared = [256,128,64,32,16,8,4,2,1]\n",
    "total_error  = [x + y for x, y in zip(variance, bias_squared)]\n",
    "\n",
    "xs = range(len(variance))\n",
    "\n",
    "plt.plot(xs, variance,     'g-',  label='variance')    # Linha verde sólida\n",
    "plt.plot(xs, bias_squared, 'r-.', label='bias^2')      # Linha vermelha tracejada\n",
    "plt.plot(xs, total_error,  'b:',  label='total error') # Linha azul pontilhada\n",
    "\n",
    "plt.legend(loc=9) ## Posicao da legenda\n",
    "plt.xlabel('Complexidade do modelo') ##titulo do eixo X\n",
    "plt.title('Compromisso entre Polarização e Variância') ## Titulo do grafico"
   ]
  },
  {
   "cell_type": "markdown",
   "metadata": {},
   "source": [
    "#### Exemplo II de gráfico de linhas (Não está no livro)"
   ]
  },
  {
   "cell_type": "markdown",
   "metadata": {},
   "source": [
    "Documentação:\n",
    "\n",
    "matplotlib.pyplot.plot(*args, scalex=True, scaley=True, data=None, **kwargs)[source]"
   ]
  },
  {
   "cell_type": "code",
   "execution_count": 31,
   "metadata": {},
   "outputs": [
    {
     "data": {
      "text/plain": [
       "[<matplotlib.lines.Line2D at 0x11e8cdbd0>]"
      ]
     },
     "execution_count": 31,
     "metadata": {},
     "output_type": "execute_result"
    },
    {
     "data": {
      "image/png": "[encoded data removed]",
      "text/plain": [
       "<Figure size 432x288 with 1 Axes>"
      ]
     },
     "metadata": {
      "needs_background": "light"
     },
     "output_type": "display_data"
    }
   ],
   "source": [
    "## Plotar grafico de linha simples\n",
    "## Somente com uma linha\n",
    "\n",
    "x = [2, 4, 8, 6, 15, 10, 15,]\n",
    "\n",
    "plt.plot(x)"
   ]
  },
  {
   "cell_type": "code",
   "execution_count": 32,
   "metadata": {},
   "outputs": [
    {
     "data": {
      "text/plain": [
       "[<matplotlib.lines.Line2D at 0x11e9fc8d0>]"
      ]
     },
     "execution_count": 32,
     "metadata": {},
     "output_type": "execute_result"
    },
    {
     "data": {
      "image/png": "[encoded data removed]",
      "text/plain": [
       "<Figure size 432x288 with 1 Axes>"
      ]
     },
     "metadata": {
      "needs_background": "light"
     },
     "output_type": "display_data"
    }
   ],
   "source": [
    "## Ao inves de linhas, \"X\" (ou algum outro caractere)\n",
    "\n",
    "plt.plot(x, 'x')"
   ]
  },
  {
   "cell_type": "code",
   "execution_count": 33,
   "metadata": {},
   "outputs": [
    {
     "data": {
      "text/plain": [
       "[<matplotlib.lines.Line2D at 0x11eac3bd0>]"
      ]
     },
     "execution_count": 33,
     "metadata": {},
     "output_type": "execute_result"
    },
    {
     "data": {
      "image/png": "[encoded data removed]",
      "text/plain": [
       "<Figure size 432x288 with 1 Axes>"
      ]
     },
     "metadata": {
      "needs_background": "light"
     },
     "output_type": "display_data"
    }
   ],
   "source": [
    "## Ao inves de linhas, \"X\" (ou algum outro caractere)\n",
    "\n",
    "plt.plot(x, c = 'blue', marker = 'o', linestyle = '--')"
   ]
  },
  {
   "cell_type": "markdown",
   "metadata": {},
   "source": [
    "#### <font color=CornflowerBlue size=5>Gráfico de Dispersão </font>\n",
    "\n",
    "***\n"
   ]
  },
  {
   "cell_type": "code",
   "execution_count": 34,
   "metadata": {},
   "outputs": [
    {
     "data": {
      "image/png": "[encoded data removed]",
      "text/plain": [
       "<Figure size 432x288 with 1 Axes>"
      ]
     },
     "metadata": {
      "needs_background": "light"
     },
     "output_type": "display_data"
    }
   ],
   "source": [
    "## Plotagem do grafico de dispersao de acordo com o livro\n",
    "\n",
    "friends = [ 70, 65, 72, 63, 71, 64, 60, 64, 67]\n",
    "minutes = [175, 170, 205, 120, 220, 130, 105, 145, 190]\n",
    "labels = ['a', 'b', 'c', 'd', 'e', 'f', 'g', 'h', 'i']\n",
    "\n",
    "plt.scatter(friends, minutes) ##eixo x = friends /// eixo y = minutes\n",
    "\n",
    "for label, friend_count, minute_count in zip(labels, friends, minutes):\n",
    "        plt.annotate(label,\n",
    "                     xy=(friend_count, minute_count), # put the label with its point\n",
    "                     xytext=(5, -5), # but slightly offset\n",
    "                     textcoords='offset points')\n",
    "\n",
    "plt.title(\"Daily Minutes vs. Number of Friends\")\n",
    "plt.xlabel(\"# of friends\")\n",
    "plt.ylabel(\"daily minutes spent on the site\")\n",
    "plt.show()"
   ]
  },
  {
   "cell_type": "markdown",
   "metadata": {},
   "source": [
    "### Cuidado ao deixa o matplot escolher a escala"
   ]
  },
  {
   "cell_type": "code",
   "execution_count": 35,
   "metadata": {},
   "outputs": [
    {
     "data": {
      "image/png": "[encoded data removed]",
      "text/plain": [
       "<Figure size 432x288 with 1 Axes>"
      ]
     },
     "metadata": {
      "needs_background": "light"
     },
     "output_type": "display_data"
    }
   ],
   "source": [
    "test_1_grade = [99, 90, 85, 97, 80]\n",
    "test_2_grade = [100, 85, 60, 90, 70]\n",
    "\n",
    "plt.scatter(test_1_grade, test_2_grade)\n",
    "plt.title('Os eixos não são compativeis')\n",
    "plt.xlabel(\"Nota do teste 2\")\n",
    "plt.xlabel(\"Nota do teste 1\")\n",
    "\n",
    "plt.show()"
   ]
  },
  {
   "cell_type": "markdown",
   "metadata": {},
   "source": [
    "#### Exemplo II de gráfico de linhas (Não está no livro)"
   ]
  },
  {
   "cell_type": "markdown",
   "metadata": {},
   "source": [
    "Documentação:\n",
    "    matplotlib.pyplot.scatter(x, y, s=None, c=None, marker=None, cmap=None, norm=None, vmin=None, vmax=None, alpha=None, linewidths=None, verts=<deprecated parameter>, edgecolors=None, *, plotnonfinite=False, data=None, **kwargs)[source]"
   ]
  },
  {
   "cell_type": "code",
   "execution_count": 36,
   "metadata": {
    "scrolled": true
   },
   "outputs": [
    {
     "data": {
      "text/plain": [
       "<matplotlib.collections.PathCollection at 0x11e9fca90>"
      ]
     },
     "execution_count": 36,
     "metadata": {},
     "output_type": "execute_result"
    },
    {
     "data": {
      "image/png": "[encoded data removed]",
      "text/plain": [
       "<Figure size 432x288 with 1 Axes>"
      ]
     },
     "metadata": {
      "needs_background": "light"
     },
     "output_type": "display_data"
    }
   ],
   "source": [
    "friends = [ 70, 65, 72, 63, 71, 64, 60, 64, 67]\n",
    "minutes = [175, 170, 205, 120, 220, 130, 105, 145, 190]\n",
    "\n",
    "plt.scatter(x = friends, y=minutes, marker = 'x')"
   ]
  },
  {
   "cell_type": "markdown",
   "metadata": {},
   "source": [
    "#### <font color=SlateBlue size=5>CAPÍTULO 4 - ÁLGEBRA LINEAR </font>\n",
    "\n",
    "***\n",
    "\n"
   ]
  },
  {
   "cell_type": "markdown",
   "metadata": {},
   "source": [
    "                    Existe algo mais inútil ou menos útil que Álgebra? —Billy Connolly\n",
    "\n",
    "                        Grus, Joel. Data Science do Zero (p. 71). Alta Books. Edição do Kindle. "
   ]
  },
  {
   "cell_type": "code",
   "execution_count": 37,
   "metadata": {},
   "outputs": [],
   "source": [
    "height_weight_age = [70, 170, 40]\n",
    "grades = [95, 80, 75, 62]"
   ]
  },
  {
   "cell_type": "code",
   "execution_count": 38,
   "metadata": {},
   "outputs": [],
   "source": [
    "## Soma elementos correpondentes\n",
    "\n",
    "def vector_add(v, w):\n",
    "    return [v_i + w_i\n",
    "           for v_i, w_i in zip(v,w)]\n",
    "\n",
    "## Subtrair dois vetores\n",
    "def vector_subtract(v, w):\n",
    "    return [v_i - w_i\n",
    "           for v_i, w_i in zip(v, w)]\n",
    "\n",
    "## Soma todos os elementos correspondentes\n",
    "def vector_sum(vectors):\n",
    "    result = vectors[0]\n",
    "    for vector in vectors[1:]:\n",
    "        result = vector_add(result, vector)\n",
    "    return result\n",
    "\n",
    "def vector_sum(vectors):\n",
    "    return reduce(vector_add, vectors)\n",
    "\n",
    "from functools import partial\n",
    "from functools import reduce\n",
    "\n",
    "vector_sum = partial(reduce, vector_add)"
   ]
  },
  {
   "cell_type": "markdown",
   "metadata": {},
   "source": [
    "#### <font color=ORANGE size=5> TERMINAR ESSE CAPITULO </font>\n",
    "\n",
    "***\n",
    "\n"
   ]
  },
  {
   "cell_type": "markdown",
   "metadata": {},
   "source": [
    "#### <font color=SlateBlue size=5>CAPÍTULO 5 - ESTATÍSTICA </font>\n",
    "\n",
    "***\n",
    "\n"
   ]
  },
  {
   "cell_type": "markdown",
   "metadata": {},
   "source": [
    "                        Os fatos são teimosos, mas as estatísticas são mais maleáveis. —Mark Twain\n",
    "\n",
    "                                    Grus, Joel. Data Science do Zero (p. 81). Alta Books. Edição do Kindle. "
   ]
  },
  {
   "cell_type": "code",
   "execution_count": 39,
   "metadata": {},
   "outputs": [],
   "source": [
    "num_friends = [100, 49, 41, 40, 250, 0] ## Para uma quantidade pequena, ok mostrar os números através de uma lista\n",
    "##porém, nao é possivel visualizar todos os numeros caso o dataset for de 1 milhao, por exemplo"
   ]
  },
  {
   "cell_type": "code",
   "execution_count": 40,
   "metadata": {},
   "outputs": [
    {
     "data": {
      "image/png": "[encoded data removed]",
      "text/plain": [
       "<Figure size 432x288 with 1 Axes>"
      ]
     },
     "metadata": {
      "needs_background": "light"
     },
     "output_type": "display_data"
    }
   ],
   "source": [
    "## com maior quantidade de dados (no caso deste exemplo, será 100 (range), os valores serao plotados em um grafico\n",
    "\n",
    "## Definindo os numeros\n",
    "friends_counts = Counter(num_friends)\n",
    "xs = range(101)\n",
    "ys = [friends_counts[x] for x in xs]\n",
    "plt.bar(xs,ys)\n",
    "plt.axis([0, 101, 0, 25])\n",
    "plt.title('Histograma da contagem de amigos')\n",
    "plt.xlabel('# de amigos')\n",
    "plt.ylabel('# de pessoas')\n",
    "plt.show()\n",
    "\n",
    "## Grafico diferente do livro devido a lista 'num_friends'"
   ]
  },
  {
   "cell_type": "code",
   "execution_count": 41,
   "metadata": {},
   "outputs": [
    {
     "data": {
      "text/plain": [
       "[12, 4, 3, 6, 8, 10, 2]"
      ]
     },
     "execution_count": 41,
     "metadata": {},
     "output_type": "execute_result"
    }
   ],
   "source": [
    "import statistics\n",
    "\n",
    "dados = [12, 4, 3, 6, 8, 10,2]\n",
    "dados"
   ]
  },
  {
   "cell_type": "code",
   "execution_count": 42,
   "metadata": {},
   "outputs": [
    {
     "data": {
      "text/plain": [
       "6"
      ]
     },
     "execution_count": 42,
     "metadata": {},
     "output_type": "execute_result"
    }
   ],
   "source": [
    "statistics.median(dados)"
   ]
  },
  {
   "cell_type": "code",
   "execution_count": null,
   "metadata": {},
   "outputs": [],
   "source": []
  }
 ],
 "metadata": {
  "kernelspec": {
   "display_name": "Python 3",
   "language": "python",
   "name": "python3"
  },
  "language_info": {
   "codemirror_mode": {
    "name": "ipython",
    "version": 3
   },
   "file_extension": ".py",
   "mimetype": "text/x-python",
   "name": "python",
   "nbconvert_exporter": "python",
   "pygments_lexer": "ipython3",
   "version": "3.7.6"
  }
 },
 "nbformat": 4,
 "nbformat_minor": 4
}
